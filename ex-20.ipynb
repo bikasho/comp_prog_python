{
 "cells": [
  {
   "cell_type": "markdown",
   "metadata": {},
   "source": [
    "# Chapter 20 UNDERSTANDING EXPERIMENTAL DATA"
   ]
  },
  {
   "cell_type": "markdown",
   "metadata": {},
   "source": [
    "## 20.1 The Behavior of Springs"
   ]
  },
  {
   "cell_type": "markdown",
   "metadata": {},
   "source": [
    "### 20.1.1 Using Linear Regression to Find a Fit"
   ]
  },
  {
   "cell_type": "markdown",
   "metadata": {},
   "source": [
    "**Finger exercise**: Modify the code in Figure 20-5 so that it produces the plot in Figure 20-8."
   ]
  },
  {
   "cell_type": "markdown",
   "metadata": {},
   "source": [
    "## 20.2 The Behavior of Projectiles"
   ]
  },
  {
   "cell_type": "markdown",
   "metadata": {},
   "source": [
    "### 20.2.1 Coefficient of Determination"
   ]
  },
  {
   "cell_type": "markdown",
   "metadata": {},
   "source": [
    "### 20.2.2 Using a Computational Model"
   ]
  },
  {
   "cell_type": "markdown",
   "metadata": {},
   "source": [
    "**Finger exercise**: In a vacuum, the speed of a falling object is defined by the equation `v = v0 + gt`, where `v0` is the initial velocity of the object, `t` is the number of seconds the object has been falling, and `g` is the gravitational constant, roughly `9.8 m/sec2` on the surface of the Earth and `3.711 m/ sec2` on Mars. A scientist measures the velocity of a falling object on an unknown planet. She does this by measuring the downward velocity of an object at different points in time. At `time 0`, the object has an unknown velocity of `v0`. Implement a function that fits a model to the time and velocity data and estimates `g` for that planet and `v0` for the experiment. It should return its estimates for `g` and `v0`, and also r-squared for the model."
   ]
  },
  {
   "cell_type": "markdown",
   "metadata": {},
   "source": [
    "## 20.3 Fitting Exponentially Distributed Data"
   ]
  },
  {
   "cell_type": "markdown",
   "metadata": {},
   "source": [
    "## 20.4 When Theory Is Missing"
   ]
  }
 ],
 "metadata": {
  "kernelspec": {
   "display_name": "Python 3",
   "language": "python",
   "name": "python3"
  },
  "language_info": {
   "codemirror_mode": {
    "name": "ipython",
    "version": 3
   },
   "file_extension": ".py",
   "mimetype": "text/x-python",
   "name": "python",
   "nbconvert_exporter": "python",
   "pygments_lexer": "ipython3",
   "version": "3.7.6"
  }
 },
 "nbformat": 4,
 "nbformat_minor": 4
}
