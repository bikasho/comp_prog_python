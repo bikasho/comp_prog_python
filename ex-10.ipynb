{
 "cells": [
  {
   "cell_type": "markdown",
   "metadata": {},
   "source": [
    "# Chapter 10 CLASSES AND OBJECT-ORIENTED PROGRAMMING"
   ]
  },
  {
   "cell_type": "markdown",
   "metadata": {},
   "source": [
    "## 10.1 Abstract Data Types and Classes"
   ]
  },
  {
   "cell_type": "markdown",
   "metadata": {},
   "source": [
    "**Finger exercise**: Add a method satisfying the specification below to the Int_set class.\n",
    "\n",
    "`\n",
    "def union(self, other):\n",
    "    \"\"\"other is an Int_set\n",
    "        mutates self so that it contains exactly the\n",
    "elemnts in self\n",
    "           plus the elements in other.\"\"\"\n",
    "`"
   ]
  },
  {
   "cell_type": "markdown",
   "metadata": {},
   "source": [
    "### 10.1.1 Magic Methods and Hashable Types"
   ]
  },
  {
   "cell_type": "markdown",
   "metadata": {},
   "source": [
    "**Finger exercise**: Replace the union method you added to Int_setby a method that allows clients of Int_set to use the + operator to denote set union."
   ]
  },
  {
   "cell_type": "markdown",
   "metadata": {},
   "source": [
    "### 10.1.2 Designing Programs Using Abstract Data Types"
   ]
  },
  {
   "cell_type": "markdown",
   "metadata": {},
   "source": [
    "### 10.1.3 Using Classes to Keep Track of Students and Faculty"
   ]
  },
  {
   "cell_type": "markdown",
   "metadata": {},
   "source": [
    "## 10.2 Inheritance"
   ]
  },
  {
   "cell_type": "markdown",
   "metadata": {},
   "source": [
    "**Finger exercise**: Implement a subclass of Person that meets the specification\n",
    "\n",
    "`\n",
    "class Politician(Person):\n",
    "    \"\"\" A politician is a person who can belong to a\n",
    "political party\"\"\"\n",
    "    def __init__(self, name, party = None):\n",
    "        \"\"\"name and party are strings\"\"\"\n",
    "    def get_party(self):\n",
    "        \"\"\"returns the party to which self belongs\"\"\"\n",
    "    def might_agree(self, other):\n",
    "        \"\"\"returns True if self and other belong to the same\n",
    "part\n",
    "               or at least one of then does not belong to a\n",
    "party\"\"\"\n",
    "`"
   ]
  },
  {
   "cell_type": "markdown",
   "metadata": {},
   "source": [
    "### 10.2.1 Multiple Levels of Inheritance"
   ]
  },
  {
   "cell_type": "markdown",
   "metadata": {},
   "source": [
    "**Finger exercise**: What is the value of the following expression?\n",
    ">isinstance('ab', str) == isinstance(str, str)"
   ]
  },
  {
   "cell_type": "markdown",
   "metadata": {},
   "source": [
    "### 10.2.2 The Substitution Principle"
   ]
  },
  {
   "cell_type": "markdown",
   "metadata": {},
   "source": [
    "## 10.3 Encapsulation and Information Hiding"
   ]
  },
  {
   "cell_type": "markdown",
   "metadata": {},
   "source": [
    "### 10.3.1 Generators"
   ]
  },
  {
   "cell_type": "markdown",
   "metadata": {},
   "source": [
    "**Finger exercise**: Add to Grades a generator that meets the specification\n",
    "\n",
    "`\n",
    "def get_students_above(self, grade):\n",
    "    \"\"\"Return the students a mean grade > g one at a time\"\"\"\n",
    "`"
   ]
  },
  {
   "cell_type": "markdown",
   "metadata": {},
   "source": [
    "## 10.4 An Extended Example"
   ]
  }
 ],
 "metadata": {
  "kernelspec": {
   "display_name": "Python 3",
   "language": "python",
   "name": "python3"
  },
  "language_info": {
   "codemirror_mode": {
    "name": "ipython",
    "version": 3
   },
   "file_extension": ".py",
   "mimetype": "text/x-python",
   "name": "python",
   "nbconvert_exporter": "python",
   "pygments_lexer": "ipython3",
   "version": "3.7.6"
  }
 },
 "nbformat": 4,
 "nbformat_minor": 4
}
