{
 "cells": [
  {
   "cell_type": "markdown",
   "metadata": {},
   "source": [
    "# Chapter 15 DYNAMIC PROGRAMMING"
   ]
  },
  {
   "cell_type": "markdown",
   "metadata": {},
   "source": [
    "## 15.1 Fibonacci Sequences, Revisited"
   ]
  },
  {
   "cell_type": "markdown",
   "metadata": {},
   "source": [
    "Finger exercise: Use the tabular method to implement a dynamic\n",
    "programming solution that meets the specification\n",
    "\n",
    "`\n",
    "def make_change(coin_vals, change):\n",
    "    \"\"\"coin_vals is a list of positive ints and coin_vals[0]\n",
    "= 1\n",
    "        change is a positive int,\n",
    "        return the minimum number of coins needed to have a\n",
    "set of\n",
    "        coins the values of which sum to change. Coins may\n",
    "be used\n",
    "        more than once. For example, make_change([1, 5,\n",
    "8], 11)\n",
    "        should return 3.\"\"\"\n",
    "`"
   ]
  },
  {
   "cell_type": "markdown",
   "metadata": {},
   "source": [
    "## 15.2 Dynamic Programming and the 0/1 Knapsack Problem"
   ]
  },
  {
   "cell_type": "markdown",
   "metadata": {},
   "source": [
    "## 15.3 Dynamic Programming and Divide-and-Conquer"
   ]
  }
 ],
 "metadata": {
  "kernelspec": {
   "display_name": "Python 3",
   "language": "python",
   "name": "python3"
  },
  "language_info": {
   "codemirror_mode": {
    "name": "ipython",
    "version": 3
   },
   "file_extension": ".py",
   "mimetype": "text/x-python",
   "name": "python",
   "nbconvert_exporter": "python",
   "pygments_lexer": "ipython3",
   "version": "3.7.6"
  }
 },
 "nbformat": 4,
 "nbformat_minor": 4
}
