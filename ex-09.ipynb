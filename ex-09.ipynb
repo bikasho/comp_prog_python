{
 "cells": [
  {
   "cell_type": "markdown",
   "metadata": {},
   "source": [
    "# Chapter 9 EXCEPTIONS AND ASSERTIONS\n"
   ]
  },
  {
   "cell_type": "markdown",
   "metadata": {},
   "source": [
    "## 9.1 Handling Exceptions"
   ]
  },
  {
   "cell_type": "markdown",
   "metadata": {},
   "source": [
    "**Finger exercise**: Implement a function that meets the specification below. Use a try-except block. Hint: before starting to code, you might want to type something like 1 + 'a' into the shell to see what kind of exception is raised.\n",
    "\n",
    "`\n",
    "def sum_digits(s):\n",
    "\"\"\"Assumes s is a string\n",
    "    Returns the sum of the decimal digits in s\n",
    "        For example, if s is 'a2b3c' it returns 5\"\"\"\n",
    "`"
   ]
  },
  {
   "cell_type": "markdown",
   "metadata": {},
   "source": [
    "## 9.2 Exceptions as a Control Flow Mechanism"
   ]
  },
  {
   "cell_type": "markdown",
   "metadata": {},
   "source": [
    "**Finger exercise**: Implement a function that satisfies the specification\n",
    "\n",
    "`\n",
    "def find_an_even(L):\n",
    "    \"\"\"Assumes L is a list of integers\n",
    "       Returns the first even number in L\n",
    "       Raises ValueError if L does not contain an even\n",
    "number\"\"\"\n",
    "`"
   ]
  },
  {
   "cell_type": "markdown",
   "metadata": {},
   "source": [
    "## 9.3 Assertions"
   ]
  }
 ],
 "metadata": {
  "kernelspec": {
   "display_name": "Python 3",
   "language": "python",
   "name": "python3"
  },
  "language_info": {
   "codemirror_mode": {
    "name": "ipython",
    "version": 3
   },
   "file_extension": ".py",
   "mimetype": "text/x-python",
   "name": "python",
   "nbconvert_exporter": "python",
   "pygments_lexer": "ipython3",
   "version": "3.7.6"
  }
 },
 "nbformat": 4,
 "nbformat_minor": 4
}
