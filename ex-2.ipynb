{
 "cells": [
  {
   "cell_type": "markdown",
   "metadata": {},
   "source": [
    "# Chapter 2 (Introduction to Python)"
   ]
  },
  {
   "cell_type": "markdown",
   "metadata": {},
   "source": [
    "**Finger exercise**: Write a program that examines three variables— x, y, and z—and prints the largest odd number among them. If none of them are odd, it should print the smallest value of the three."
   ]
  },
  {
   "cell_type": "code",
   "execution_count": 2,
   "metadata": {},
   "outputs": [
    {
     "name": "stdout",
     "output_type": "stream",
     "text": [
      "31\n"
     ]
    }
   ],
   "source": [
    "x = 21 \n",
    "y = 42\n",
    "z = 31\n",
    "\n",
    "answer = min(x,y,z)\n",
    "if x % 2 != 0:\n",
    "    answer = x\n",
    "if y%2 != 0 and y > x:\n",
    "    answer = y\n",
    "elif z%2 !=0 and z > x:\n",
    "    answer = z\n",
    "\n",
    "print(answer)"
   ]
  },
  {
   "cell_type": "markdown",
   "metadata": {},
   "source": [
    "**Finger exercise**: Write code that asks the user to enter their birthday in the form mm/dd/yyyy, and then prints a string of the form ‘You were born in the year yyyy.’"
   ]
  },
  {
   "cell_type": "code",
   "execution_count": 3,
   "metadata": {},
   "outputs": [
    {
     "name": "stdout",
     "output_type": "stream",
     "text": [
      "Enter your birthday in dd/mm/yyyy format: 21/4/2103\n"
     ]
    }
   ],
   "source": [
    "date = input(\"Enter your birthday in dd/mm/yyyy format: \")"
   ]
  },
  {
   "cell_type": "code",
   "execution_count": 4,
   "metadata": {},
   "outputs": [
    {
     "name": "stdout",
     "output_type": "stream",
     "text": [
      "You were born in the year 2103\n"
     ]
    }
   ],
   "source": [
    "day, month, year = date.split(\"/\")\n",
    "print('You were born in the year' + ' ' +year )"
   ]
  },
  {
   "cell_type": "markdown",
   "metadata": {},
   "source": [
    "**Finger exercise**: Replace the comment in the following code with a while loop. \n",
    "<br>num_x = int(input('How many times should I print the letter X? '))\n",
    "<br>to_print = ''\n",
    "<br>#concatenate X to to_print num_x times \n",
    "<br>print(to_print)"
   ]
  },
  {
   "cell_type": "code",
   "execution_count": 5,
   "metadata": {},
   "outputs": [
    {
     "name": "stdout",
     "output_type": "stream",
     "text": [
      "How many times should I print the letter X? 8\n",
      "XXXXXXXX\n"
     ]
    }
   ],
   "source": [
    "num_x = int(input('How many times should I print the letter X? '))\n",
    "while num_x <1:\n",
    "    num_x = int(input(\"How many times should I print the letter X?: \"))\n",
    "    if num_x < 1:\n",
    "        print (\"Enter an integer greater than 0\")\n",
    "print('X'* num_x)"
   ]
  },
  {
   "cell_type": "markdown",
   "metadata": {},
   "source": [
    "**Finger exercise**: Write a program that asks the user to input 10 integers, and then prints the largest odd number that was entered. If no odd number was entered, it should print a message to that effect."
   ]
  },
  {
   "cell_type": "code",
   "execution_count": 1,
   "metadata": {},
   "outputs": [
    {
     "name": "stdout",
     "output_type": "stream",
     "text": [
      "You will be asked to enter 10 integer numbers, one at a time.\n",
      "Number: 1\n",
      "Number: 2\n",
      "Number: 3\n",
      "Number: 4\n",
      "Number: 5\n",
      "Number: 6\n",
      "Number: 7\n",
      "Number: 8\n",
      "Number: 9\n",
      "Number: 10\n",
      "The largest odd number is 9 from [10, 9, 8, 7, 6, 5, 4, 3, 2, 1]\n"
     ]
    }
   ],
   "source": [
    "list = []\n",
    "odds = False\n",
    "\n",
    "print('You will be asked to enter 10 integer numbers, one at a time.')\n",
    "\n",
    "for i in range(1,11):\n",
    "    i = int(input('Number: ')) \n",
    "    list.append(i)\n",
    "\n",
    "list = sorted(list, reverse = True)\n",
    "\n",
    "for j in list:\n",
    "    if j%2 == 1:\n",
    "        print('The largest odd number is', j, 'from', list)\n",
    "        odds = True\n",
    "        break\n",
    "\n",
    "if odds == False:\n",
    "    print('There is no odd number from', list)"
   ]
  },
  {
   "cell_type": "markdown",
   "metadata": {},
   "source": [
    "**Finger exercise**: Write a program that prints the sum of the prime numbers greater than 2 and less than 1000. Hint: you probably want to use a for loop that is a primality test nested inside a for loop that iterates over the odd integers between 3 and 999."
   ]
  },
  {
   "cell_type": "code",
   "execution_count": 14,
   "metadata": {},
   "outputs": [
    {
     "name": "stdout",
     "output_type": "stream",
     "text": [
      "\n",
      "\n",
      "Sum of Prime Numbers from 2 to 1000 = 76127\n"
     ]
    }
   ],
   "source": [
    "#minimum = int(input(\" Please Enter the Minimum Value: \"))\n",
    "#maximum = int(input(\" Please Enter the Maximum Value: \"))\n",
    "\n",
    "minimum = 2\n",
    "maximun = 1000\n",
    "\n",
    "total = 0\n",
    "\n",
    "for Number in range (minimum, maximum + 1):\n",
    "    count = 0\n",
    "    for i in range(2, (Number//2 + 1)):\n",
    "        if(Number % i == 0):\n",
    "            count = count + 1\n",
    "            break\n",
    "\n",
    "    if (count == 0 and Number != 1):\n",
    "        #print(\" %d\" %Number, end = '  ')\n",
    "        total = total + Number\n",
    "\n",
    "print(\"\\n\\nSum of Prime Numbers from %d to %d = %d\" %(minimum, maximum, total))"
   ]
  }
 ],
 "metadata": {
  "kernelspec": {
   "display_name": "Python 3",
   "language": "python",
   "name": "python3"
  },
  "language_info": {
   "codemirror_mode": {
    "name": "ipython",
    "version": 3
   },
   "file_extension": ".py",
   "mimetype": "text/x-python",
   "name": "python",
   "nbconvert_exporter": "python",
   "pygments_lexer": "ipython3",
   "version": "3.7.6"
  }
 },
 "nbformat": 4,
 "nbformat_minor": 2
}
