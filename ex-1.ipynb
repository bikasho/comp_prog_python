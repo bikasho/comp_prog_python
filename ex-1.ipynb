{
 "metadata": {
  "language_info": {
   "codemirror_mode": {
    "name": "ipython",
    "version": 3
   },
   "file_extension": ".py",
   "mimetype": "text/x-python",
   "name": "python",
   "nbconvert_exporter": "python",
   "pygments_lexer": "ipython3",
   "version": 3
  },
  "orig_nbformat": 2
 },
 "nbformat": 4,
 "nbformat_minor": 2,
 "cells": [
  {
   "source": [
    "# Chapter 1 (Getting Started)"
   ],
   "cell_type": "markdown",
   "metadata": {}
  },
  {
   "source": [
    "__Finger Exercise__: Computers can be annoyingly literal. If you don't tell them exactly what you want them to do, they are likely to do the wrong thing. Try writing an algorithm for driving between two destinations. Write it the way you would for a person, and then imagine what would happen if that person were as stupid as a computer, and executed the algorithm exactly as written. (For an amusing illustration of this, take a look at the video __[link text](https://www.youtube.com/watch?v=FN2RM-CHkuI&t=24s.)__)\n",
    "\n",
    "\n"
   ],
   "cell_type": "markdown",
   "metadata": {}
  },
  {
   "source": [
    "##Solution\n",
    "\n",
    "1. Get the car keys\n",
    "1. Walk till the front right door of the car\n",
    "1. Open the door with the keys\n",
    "1. Sit on the driver's seat\n",
    "1. Check gearbox and ensure it's in neutral position\n",
    "1. Put your left hand on the steering wheel\n",
    "1. Insert the key in the keyhole with your right hand\n",
    "1. Twist the keyhole to turn on the engine\n",
    "1. Ensure both of your hands are on the steering wheel\n",
    "1. Place your left foot on the clutch\n",
    "1. Press the clutch to change from neutral to first gear\n",
    "1. slightly withdraw the left foot  \n",
    "1. Always keep your left foot positioned above the clutch pedal\n",
    "1. Place your right foot gently on the accelerator \n",
    "1. Press the accelerator gradually and simultaneously keep withdrawing your left foot from the clutch \n",
    "1. Keep going straight till 1 km\n",
    "1. Watch the odometer\n",
    "1. When speed is more than 10 kmph, Shift to 2nd gear\n",
    "1. When speed is more than 20 kmph, Shift to 3rd gear\n",
    "1. When speed is more than 40 kmph, Shift to 4th gear  \n",
    "1. When speed is more than 60 kmph, Shift to 5th gear  \n",
    "1. When you have reached 0.8 km, remove your right foot from the accelerator\n",
    "1. Place your right foot on the break \n",
    "1. Slightly push the break pedal to reduce the speed gradually\n",
    "1. Press the clutch and change the gears in descending order according to the speed on the odometer till 3rd gear\n",
    "1. Turn on the right side indicator\n",
    "1. Check if right side is clear to make a turn\n",
    "1. Place your your foot slightly pushing the accelerator and turn right\n",
    "1. Destination arrives at 0.5 km\n",
    "1. Move towards the left\n",
    "1. Place your right foot on the break \n",
    "1. Gradually reduce the speed by pushing the break pedal and change the gears accordingly till you have reached the destination\n",
    "1. Shift the gear to neutral position\n",
    "1. Remove your feet from the pedals\n",
    "1. Turn off the engine\n",
    "1. Remove the keys\n",
    "1. Open the door and exit\n",
    " "
   ],
   "cell_type": "markdown",
   "metadata": {}
  }
 ]
}