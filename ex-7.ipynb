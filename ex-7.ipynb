{
 "cells": [
  {
   "cell_type": "markdown",
   "metadata": {},
   "source": [
    "# Chapter 7 - MODULES AND FILES"
   ]
  },
  {
   "cell_type": "markdown",
   "metadata": {},
   "source": [
    "## 7.1 Modules"
   ]
  },
  {
   "cell_type": "markdown",
   "metadata": {},
   "source": [
    "## 7.2 Using Predefined Packages"
   ]
  },
  {
   "cell_type": "markdown",
   "metadata": {},
   "source": [
    "Finger exercise: Write a function that meets the specification\n",
    "def shopping_days(year):\n",
    "\"\"\"year a number >= 1941\n",
    "returns the number of days between U.S. Thanksgiving\n",
    "and\n",
    "Christmas in year\"\"\"\n",
    "Finger exercise: Since 1958, Canadian Thanksgiving has occurred\n",
    "on the second Monday in October. Write a function that takes a year\n",
    "(>1957) as a parameter, and returns the number of days between\n",
    "Canadian Thanksgiving and Christmas."
   ]
  }
 ],
 "metadata": {
  "kernelspec": {
   "display_name": "Python 3",
   "language": "python",
   "name": "python3"
  },
  "language_info": {
   "codemirror_mode": {
    "name": "ipython",
    "version": 3
   },
   "file_extension": ".py",
   "mimetype": "text/x-python",
   "name": "python",
   "nbconvert_exporter": "python",
   "pygments_lexer": "ipython3",
   "version": "3.7.6"
  }
 },
 "nbformat": 4,
 "nbformat_minor": 4
}
