{
 "cells": [
  {
   "cell_type": "markdown",
   "metadata": {},
   "source": [
    "# Chapter 5 - STRUCTURED TYPES AND MUTABILITY"
   ]
  },
  {
   "cell_type": "markdown",
   "metadata": {},
   "source": [
    "## 5.1 Tuples"
   ]
  },
  {
   "cell_type": "markdown",
   "metadata": {},
   "source": [
    "### 5.1.1 Multiple Assignment"
   ]
  },
  {
   "cell_type": "markdown",
   "metadata": {},
   "source": [
    "## 5.2 Ranges and Iterables"
   ]
  },
  {
   "cell_type": "markdown",
   "metadata": {},
   "source": [
    "**Finger exercise**: Write an expression that evaluates to the mean of a tuple of numbers. Use the function sum."
   ]
  },
  {
   "cell_type": "markdown",
   "metadata": {},
   "source": [
    "## 5.3 Lists and Mutability"
   ]
  },
  {
   "cell_type": "markdown",
   "metadata": {},
   "source": [
    "Finger exercise: What does the following code print?\n",
    "\n",
    "`\n",
    "L = [1, 2, 3]\n",
    "L.append(L)\n",
    "print(L is L[-1])\n",
    "`"
   ]
  },
  {
   "cell_type": "markdown",
   "metadata": {},
   "source": [
    "### 5.3.1 Cloning"
   ]
  },
  {
   "cell_type": "markdown",
   "metadata": {},
   "source": [
    "### 5.3.2 List Comprehension"
   ]
  },
  {
   "cell_type": "markdown",
   "metadata": {},
   "source": [
    "**Finger exercise**: Write a list comprehension that generates all non-primes between 2 and 100."
   ]
  },
  {
   "cell_type": "markdown",
   "metadata": {},
   "source": [
    "## 5.4 Higher-Order Operations on Lists"
   ]
  },
  {
   "cell_type": "markdown",
   "metadata": {},
   "source": [
    "**Finger exercise**: Implement a function satisfying the following specification. Hint: it will be convenient to use lambda in the body of\n",
    "the implementation.\n",
    "\n",
    "`def f(L1, L2):\n",
    "\"\"\"L1, L2 lists of same length of numbers\n",
    "returns the sum of raising each element in L1\n",
    "to the power of the element at the same index in L2\n",
    "For example, f([1,2], [2,3]) returns 9\"\"\"\n",
    "`"
   ]
  },
  {
   "cell_type": "markdown",
   "metadata": {},
   "source": [
    "## 5.5 Strings, Tuples, Ranges, and Lists"
   ]
  },
  {
   "cell_type": "markdown",
   "metadata": {},
   "source": [
    "## 5.6 Sets"
   ]
  },
  {
   "cell_type": "markdown",
   "metadata": {},
   "source": [
    "## 5.7 Dictionaries"
   ]
  },
  {
   "cell_type": "markdown",
   "metadata": {},
   "source": [
    "**Finger exercise**: Implement a function that meets the specification\n",
    "\n",
    "`\n",
    "def get_min(d):\n",
    "\"\"\"d a dict mapping letters to ints\n",
    "returns the value in d with the key that occurs first\n",
    "in the\n",
    "alphabet. E.g., if d = {x = 11, b = 12}, get_min\n",
    "returns 12.\"\"\"\n",
    "`"
   ]
  },
  {
   "cell_type": "markdown",
   "metadata": {},
   "source": [
    "## 5.8 Dictionary Comprehension"
   ]
  },
  {
   "cell_type": "markdown",
   "metadata": {},
   "source": [
    "**Finger exercise**: Remedy the problem described in the previous paragraph. \n",
    "\n",
    "*Hint: a simple way to do this is to create a new book by appending something to the original book.\n"
   ]
  },
  {
   "cell_type": "markdown",
   "metadata": {},
   "source": [
    "**Finger exercise**: Using encoder and encrypt as models, implement the functions decoder and decrypt. Use them to decrypt the message \n",
    "\n",
    ">22*13*33*137*59*11*23*11*1*57*6*13*1*2*6*57*2*6*1*22*13*33*1 37*59*11*23*11*1*57*6*173*7*11\n",
    "\n",
    "which was encrypted using the opening of Don Quixote."
   ]
  },
  {
   "cell_type": "code",
   "execution_count": null,
   "metadata": {},
   "outputs": [],
   "source": []
  }
 ],
 "metadata": {
  "kernelspec": {
   "display_name": "Python 3",
   "language": "python",
   "name": "python3"
  },
  "language_info": {
   "codemirror_mode": {
    "name": "ipython",
    "version": 3
   },
   "file_extension": ".py",
   "mimetype": "text/x-python",
   "name": "python",
   "nbconvert_exporter": "python",
   "pygments_lexer": "ipython3",
   "version": "3.7.6"
  }
 },
 "nbformat": 4,
 "nbformat_minor": 4
}
