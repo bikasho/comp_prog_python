{
 "cells": [
  {
   "cell_type": "markdown",
   "metadata": {},
   "source": [
    "# Chapter 2 (Introduction to Python)"
   ]
  },
  {
   "cell_type": "markdown",
   "metadata": {},
   "source": [
    "**Finger exercise**: Write a program that examines three variables— x, y, and z—and prints the largest odd number among them. If none of them are odd, it should print the smallest value of the three."
   ]
  },
  {
   "cell_type": "code",
   "execution_count": 1,
   "metadata": {},
   "outputs": [
    {
     "name": "stdout",
     "output_type": "stream",
     "text": [
      "31\n"
     ]
    }
   ],
   "source": [
    "x = 21 \n",
    "y = 42\n",
    "z = 31\n",
    "\n",
    "answer = min(x,y,z)\n",
    "if x % 2 != 0:\n",
    "    answer = x\n",
    "if y%2 != 0 and y > x:\n",
    "    answer = y\n",
    "elif z%2 !=0 and z > x:\n",
    "    answer = z\n",
    "\n",
    "print(answer)"
   ]
  },
  {
   "cell_type": "markdown",
   "metadata": {},
   "source": [
    "**Finger exercise**: Write code that asks the user to enter their birthday in the form mm/dd/yyyy, and then prints a string of the form ‘You were born in the year yyyy.’"
   ]
  },
  {
   "cell_type": "code",
   "execution_count": 19,
   "metadata": {},
   "outputs": [
    {
     "name": "stdout",
     "output_type": "stream",
     "text": [
      "Enter your birthday in dd/mm/yyyy format: 30/02/2022\n"
     ]
    }
   ],
   "source": [
    "date = input(\"Enter your birthday in dd/mm/yyyy format: \")"
   ]
  },
  {
   "cell_type": "code",
   "execution_count": 20,
   "metadata": {},
   "outputs": [
    {
     "name": "stdout",
     "output_type": "stream",
     "text": [
      "You were born in the year 2022\n"
     ]
    }
   ],
   "source": [
    "day, month, year = date.split(\"/\")\n",
    "print('You were born in the year' + ' ' +year )"
   ]
  },
  {
   "cell_type": "markdown",
   "metadata": {},
   "source": [
    "**Finger exercise**: Replace the comment in the following code with a while loop. \n",
    "<br>num_x = int(input('How many times should I print the letter X? '))\n",
    "<br>to_print = ''\n",
    "<br>#concatenate X to to_print num_x times \n",
    "<br>print(to_print)"
   ]
  },
  {
   "cell_type": "code",
   "execution_count": 41,
   "metadata": {},
   "outputs": [
    {
     "name": "stdout",
     "output_type": "stream",
     "text": [
      "How many times should I print the letter X? 0\n",
      "How many times should I print the letter X?: 0\n",
      "Enter an integer greater than 0\n",
      "How many times should I print the letter X?: 2\n",
      "XX\n"
     ]
    }
   ],
   "source": [
    "num_x = int(input('How many times should I print the letter X? '))\n",
    "while num_x <1:\n",
    "    num_x = int(input(\"How many times should I print the letter X?: \"))\n",
    "    if num_x < 1:\n",
    "        print (\"Enter an integer greater than 0\")\n",
    "print('X'* num_x)"
   ]
  },
  {
   "cell_type": "code",
   "execution_count": null,
   "metadata": {},
   "outputs": [],
   "source": []
  }
 ],
 "metadata": {
  "kernelspec": {
   "display_name": "Python 3",
   "language": "python",
   "name": "python3"
  },
  "language_info": {
   "codemirror_mode": {
    "name": "ipython",
    "version": 3
   },
   "file_extension": ".py",
   "mimetype": "text/x-python",
   "name": "python",
   "nbconvert_exporter": "python",
   "pygments_lexer": "ipython3",
   "version": "3.7.6"
  }
 },
 "nbformat": 4,
 "nbformat_minor": 2
}
