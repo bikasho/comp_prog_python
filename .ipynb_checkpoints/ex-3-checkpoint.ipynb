{
 "cells": [
  {
   "cell_type": "markdown",
   "metadata": {},
   "source": [
    "# Chapter 3 (Some Numerical Programs)"
   ]
  },
  {
   "cell_type": "markdown",
   "metadata": {},
   "source": [
    "## Section 3.1 - Exhaustive Enumeration"
   ]
  },
  {
   "cell_type": "markdown",
   "metadata": {},
   "source": [
    "**Finger exercise**: Change the code in Figure 3-2 so that it returns the largest rather than the smallest divisor. \n",
    "\n",
    "\n",
    "*Hint: if y*z = x and y is the smallest divisor of x, z is the largest divisor of x."
   ]
  },
  {
   "cell_type": "markdown",
   "metadata": {},
   "source": [
    "\n",
    "' #Test if an int > 2 is prime. If not, print smallest divisor'\n",
    "> <br> x = int(input('Enter an integer greater than 2: '))\n",
    "> <br>smallest_divisor = None\n",
    "\n",
    "''' > <br>if x%2 == 0: '''\n",
    "\n",
    ">> <br>smallest_divisor = 2\n",
    "\n",
    "> <br>else:\n",
    "\n",
    "<br>for guess in range(3,x,2):\n",
    "<br>if x%guess == 0:\n",
    "<br>smallest_divisor = guess\n",
    "<br>break\n",
    "<br>if smallest_divisor != None\n",
    "<br>print('Smallest divisor of',x,'is', smallest_divisor)\n",
    "<br>else:\n",
    "<br>print(x,'is a prime number')\n"
   ]
  },
  {
   "cell_type": "markdown",
   "metadata": {},
   "source": [
    "**Finger exercise**: Write a program that asks the user to enter an integer and prints two integers, root and pwr, such that 1 < pwr < 6 and root**pwr is equal to the integer entered by the user. If no such pair of integers exists, it should print a message to that effect."
   ]
  },
  {
   "cell_type": "markdown",
   "metadata": {},
   "source": [
    "**Finger exercise**: Write a program that prints the sum of the prime numbers greater than 2 and less than 1000. Hint: you probably want to have a loop that is a primality test nested inside a loop that iterates over the odd integers between 3 and 999."
   ]
  },
  {
   "cell_type": "markdown",
   "metadata": {},
   "source": [
    "## Section 3.2 - Approximate Solutions and Bisection Search"
   ]
  },
  {
   "cell_type": "markdown",
   "metadata": {},
   "source": [
    "**Finger exercise**: What would the code in Figure 3-5 do if x = -25?"
   ]
  },
  {
   "cell_type": "markdown",
   "metadata": {},
   "source": [
    "**Finger exercise**: What would have to be changed to make the code in Figure 3-5 work for finding an approximation to the cube root of both negative and positive numbers? Hint: think about changing low to ensure that the answer lies within the region being searched."
   ]
  },
  {
   "cell_type": "markdown",
   "metadata": {},
   "source": [
    "**Finger exercise**: The Empire State Building is 102 stories high. A man wanted to know the highest floor from which he could drop an egg without the egg breaking. He proposed to drop an egg from the top floor. If it broke, he would go down a floor, and try it again. He would do this until the egg did not break. At worst, this method requires 102 eggs. Implement a method that at worst uses seven eggs."
   ]
  },
  {
   "cell_type": "markdown",
   "metadata": {},
   "source": [
    "## Section 3.3 - A Few Words about Using Floats"
   ]
  },
  {
   "cell_type": "markdown",
   "metadata": {},
   "source": [
    "**Finger exercise**: What is the decimal equivalent of the binary number 10011?"
   ]
  },
  {
   "cell_type": "markdown",
   "metadata": {},
   "source": [
    "## Section 3.4 - Newton - Raphson"
   ]
  },
  {
   "cell_type": "markdown",
   "metadata": {},
   "source": [
    "**Finger exercise**: Add some code to the implementation of Newton–Raphson that keeps track of the number of iterations used\n",
    "to find the root. Use that code as part of a program that compares the efficiency of Newton–Raphson and bisection search. (You should discover that Newton–Raphson is far more efficient.)"
   ]
  }
 ],
 "metadata": {
  "kernelspec": {
   "display_name": "Python 3",
   "language": "python",
   "name": "python3"
  },
  "language_info": {
   "codemirror_mode": {
    "name": "ipython",
    "version": 3
   },
   "file_extension": ".py",
   "mimetype": "text/x-python",
   "name": "python",
   "nbconvert_exporter": "python",
   "pygments_lexer": "ipython3",
   "version": "3.7.6"
  }
 },
 "nbformat": 4,
 "nbformat_minor": 4
}
